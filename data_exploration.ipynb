{
 "cells": [
  {
   "cell_type": "markdown",
   "metadata": {},
   "source": [
    "# Data exploration\n"
   ]
  },
  {
   "cell_type": "code",
   "execution_count": 1,
   "metadata": {},
   "outputs": [],
   "source": [
    "import pandas as pd\n",
    "import numpy as np\n",
    "import matplotlib.pyplot as plt\n",
    "import seaborn as sns\n",
    "import os\n",
    "import sys\n",
    "\n",
    "import matplotlib.pyplot as plt\n",
    "from sklearn.decomposition import PCA\n",
    "from sklearn.decomposition import SparsePCA\n",
    "from sklearn import random_projection\n",
    "from sklearn.cluster import KMeans\n",
    "import numpy as np"
   ]
  },
  {
   "cell_type": "code",
   "execution_count": 2,
   "metadata": {},
   "outputs": [
    {
     "data": {
      "text/html": [
       "<div>\n",
       "<style scoped>\n",
       "    .dataframe tbody tr th:only-of-type {\n",
       "        vertical-align: middle;\n",
       "    }\n",
       "\n",
       "    .dataframe tbody tr th {\n",
       "        vertical-align: top;\n",
       "    }\n",
       "\n",
       "    .dataframe thead th {\n",
       "        text-align: right;\n",
       "    }\n",
       "</style>\n",
       "<table border=\"1\" class=\"dataframe\">\n",
       "  <thead>\n",
       "    <tr style=\"text-align: right;\">\n",
       "      <th></th>\n",
       "      <th>#CHROM</th>\n",
       "      <th>POS</th>\n",
       "      <th>K10G</th>\n",
       "      <th>K12G</th>\n",
       "      <th>K13G</th>\n",
       "      <th>K16G</th>\n",
       "      <th>K21G</th>\n",
       "      <th>K23G</th>\n",
       "      <th>K25G</th>\n",
       "      <th>K28G</th>\n",
       "      <th>...</th>\n",
       "      <th>metaspades_90</th>\n",
       "      <th>metaspades_91</th>\n",
       "      <th>metaspades_92</th>\n",
       "      <th>metaspades_93</th>\n",
       "      <th>metaspades_94</th>\n",
       "      <th>metawrap_assemle_2487B</th>\n",
       "      <th>metawrap_assemle_2487C</th>\n",
       "      <th>metawrap_assemle_2487D</th>\n",
       "      <th>metawrap_assemle_2487E</th>\n",
       "      <th>read</th>\n",
       "    </tr>\n",
       "  </thead>\n",
       "  <tbody>\n",
       "    <tr>\n",
       "      <th>0</th>\n",
       "      <td>EGOHCJCO_00001</td>\n",
       "      <td>174</td>\n",
       "      <td>0.0</td>\n",
       "      <td>0.0</td>\n",
       "      <td>0.0</td>\n",
       "      <td>0.0</td>\n",
       "      <td>0.0</td>\n",
       "      <td>0.0</td>\n",
       "      <td>0.0</td>\n",
       "      <td>0.0</td>\n",
       "      <td>...</td>\n",
       "      <td>0.0</td>\n",
       "      <td>0.0</td>\n",
       "      <td>0.0</td>\n",
       "      <td>0.0</td>\n",
       "      <td>0.0</td>\n",
       "      <td>2.0</td>\n",
       "      <td>2.0</td>\n",
       "      <td>2.0</td>\n",
       "      <td>0.0</td>\n",
       "      <td>0.0</td>\n",
       "    </tr>\n",
       "    <tr>\n",
       "      <th>1</th>\n",
       "      <td>EGOHCJCO_00001</td>\n",
       "      <td>184</td>\n",
       "      <td>0.0</td>\n",
       "      <td>0.0</td>\n",
       "      <td>0.0</td>\n",
       "      <td>0.0</td>\n",
       "      <td>0.0</td>\n",
       "      <td>0.0</td>\n",
       "      <td>0.0</td>\n",
       "      <td>0.0</td>\n",
       "      <td>...</td>\n",
       "      <td>0.0</td>\n",
       "      <td>0.0</td>\n",
       "      <td>0.0</td>\n",
       "      <td>0.0</td>\n",
       "      <td>0.0</td>\n",
       "      <td>2.0</td>\n",
       "      <td>2.0</td>\n",
       "      <td>2.0</td>\n",
       "      <td>0.0</td>\n",
       "      <td>0.0</td>\n",
       "    </tr>\n",
       "    <tr>\n",
       "      <th>2</th>\n",
       "      <td>EGOHCJCO_00003</td>\n",
       "      <td>136</td>\n",
       "      <td>0.0</td>\n",
       "      <td>0.0</td>\n",
       "      <td>0.0</td>\n",
       "      <td>0.0</td>\n",
       "      <td>0.0</td>\n",
       "      <td>0.0</td>\n",
       "      <td>0.0</td>\n",
       "      <td>0.0</td>\n",
       "      <td>...</td>\n",
       "      <td>0.0</td>\n",
       "      <td>0.0</td>\n",
       "      <td>0.0</td>\n",
       "      <td>0.0</td>\n",
       "      <td>0.0</td>\n",
       "      <td>2.0</td>\n",
       "      <td>2.0</td>\n",
       "      <td>2.0</td>\n",
       "      <td>2.0</td>\n",
       "      <td>0.0</td>\n",
       "    </tr>\n",
       "    <tr>\n",
       "      <th>3</th>\n",
       "      <td>EGOHCJCO_00006</td>\n",
       "      <td>297</td>\n",
       "      <td>0.0</td>\n",
       "      <td>0.0</td>\n",
       "      <td>0.0</td>\n",
       "      <td>0.0</td>\n",
       "      <td>0.0</td>\n",
       "      <td>0.0</td>\n",
       "      <td>0.0</td>\n",
       "      <td>0.0</td>\n",
       "      <td>...</td>\n",
       "      <td>1.0</td>\n",
       "      <td>1.0</td>\n",
       "      <td>1.0</td>\n",
       "      <td>1.0</td>\n",
       "      <td>1.0</td>\n",
       "      <td>1.0</td>\n",
       "      <td>1.0</td>\n",
       "      <td>1.0</td>\n",
       "      <td>1.0</td>\n",
       "      <td>0.0</td>\n",
       "    </tr>\n",
       "    <tr>\n",
       "      <th>4</th>\n",
       "      <td>EGOHCJCO_00006</td>\n",
       "      <td>342</td>\n",
       "      <td>0.0</td>\n",
       "      <td>0.0</td>\n",
       "      <td>0.0</td>\n",
       "      <td>0.0</td>\n",
       "      <td>0.0</td>\n",
       "      <td>0.0</td>\n",
       "      <td>0.0</td>\n",
       "      <td>0.0</td>\n",
       "      <td>...</td>\n",
       "      <td>1.0</td>\n",
       "      <td>1.0</td>\n",
       "      <td>1.0</td>\n",
       "      <td>1.0</td>\n",
       "      <td>1.0</td>\n",
       "      <td>2.0</td>\n",
       "      <td>2.0</td>\n",
       "      <td>2.0</td>\n",
       "      <td>2.0</td>\n",
       "      <td>0.0</td>\n",
       "    </tr>\n",
       "    <tr>\n",
       "      <th>...</th>\n",
       "      <td>...</td>\n",
       "      <td>...</td>\n",
       "      <td>...</td>\n",
       "      <td>...</td>\n",
       "      <td>...</td>\n",
       "      <td>...</td>\n",
       "      <td>...</td>\n",
       "      <td>...</td>\n",
       "      <td>...</td>\n",
       "      <td>...</td>\n",
       "      <td>...</td>\n",
       "      <td>...</td>\n",
       "      <td>...</td>\n",
       "      <td>...</td>\n",
       "      <td>...</td>\n",
       "      <td>...</td>\n",
       "      <td>...</td>\n",
       "      <td>...</td>\n",
       "      <td>...</td>\n",
       "      <td>...</td>\n",
       "      <td>...</td>\n",
       "    </tr>\n",
       "    <tr>\n",
       "      <th>124458</th>\n",
       "      <td>KMKHEIEB_02137</td>\n",
       "      <td>387</td>\n",
       "      <td>0.0</td>\n",
       "      <td>0.0</td>\n",
       "      <td>0.0</td>\n",
       "      <td>0.0</td>\n",
       "      <td>0.0</td>\n",
       "      <td>0.0</td>\n",
       "      <td>0.0</td>\n",
       "      <td>0.0</td>\n",
       "      <td>...</td>\n",
       "      <td>0.0</td>\n",
       "      <td>0.0</td>\n",
       "      <td>0.0</td>\n",
       "      <td>0.0</td>\n",
       "      <td>0.0</td>\n",
       "      <td>0.0</td>\n",
       "      <td>0.0</td>\n",
       "      <td>0.0</td>\n",
       "      <td>0.0</td>\n",
       "      <td>0.0</td>\n",
       "    </tr>\n",
       "    <tr>\n",
       "      <th>124459</th>\n",
       "      <td>KMKHEIEB_02144</td>\n",
       "      <td>443</td>\n",
       "      <td>0.0</td>\n",
       "      <td>2.0</td>\n",
       "      <td>1.0</td>\n",
       "      <td>1.0</td>\n",
       "      <td>1.0</td>\n",
       "      <td>1.0</td>\n",
       "      <td>0.0</td>\n",
       "      <td>1.0</td>\n",
       "      <td>...</td>\n",
       "      <td>0.0</td>\n",
       "      <td>0.0</td>\n",
       "      <td>0.0</td>\n",
       "      <td>0.0</td>\n",
       "      <td>0.0</td>\n",
       "      <td>0.0</td>\n",
       "      <td>0.0</td>\n",
       "      <td>0.0</td>\n",
       "      <td>0.0</td>\n",
       "      <td>0.0</td>\n",
       "    </tr>\n",
       "    <tr>\n",
       "      <th>124460</th>\n",
       "      <td>KMKHEIEB_02144</td>\n",
       "      <td>471</td>\n",
       "      <td>0.0</td>\n",
       "      <td>2.0</td>\n",
       "      <td>1.0</td>\n",
       "      <td>1.0</td>\n",
       "      <td>1.0</td>\n",
       "      <td>1.0</td>\n",
       "      <td>0.0</td>\n",
       "      <td>1.0</td>\n",
       "      <td>...</td>\n",
       "      <td>0.0</td>\n",
       "      <td>0.0</td>\n",
       "      <td>0.0</td>\n",
       "      <td>0.0</td>\n",
       "      <td>0.0</td>\n",
       "      <td>0.0</td>\n",
       "      <td>0.0</td>\n",
       "      <td>0.0</td>\n",
       "      <td>0.0</td>\n",
       "      <td>0.0</td>\n",
       "    </tr>\n",
       "    <tr>\n",
       "      <th>124461</th>\n",
       "      <td>KMKHEIEB_02144</td>\n",
       "      <td>473</td>\n",
       "      <td>0.0</td>\n",
       "      <td>2.0</td>\n",
       "      <td>1.0</td>\n",
       "      <td>0.0</td>\n",
       "      <td>1.0</td>\n",
       "      <td>1.0</td>\n",
       "      <td>0.0</td>\n",
       "      <td>1.0</td>\n",
       "      <td>...</td>\n",
       "      <td>0.0</td>\n",
       "      <td>0.0</td>\n",
       "      <td>0.0</td>\n",
       "      <td>0.0</td>\n",
       "      <td>0.0</td>\n",
       "      <td>0.0</td>\n",
       "      <td>0.0</td>\n",
       "      <td>0.0</td>\n",
       "      <td>0.0</td>\n",
       "      <td>0.0</td>\n",
       "    </tr>\n",
       "    <tr>\n",
       "      <th>124462</th>\n",
       "      <td>KMKHEIEB_02148</td>\n",
       "      <td>306</td>\n",
       "      <td>0.0</td>\n",
       "      <td>0.0</td>\n",
       "      <td>0.0</td>\n",
       "      <td>0.0</td>\n",
       "      <td>0.0</td>\n",
       "      <td>0.0</td>\n",
       "      <td>0.0</td>\n",
       "      <td>0.0</td>\n",
       "      <td>...</td>\n",
       "      <td>0.0</td>\n",
       "      <td>0.0</td>\n",
       "      <td>0.0</td>\n",
       "      <td>0.0</td>\n",
       "      <td>0.0</td>\n",
       "      <td>0.0</td>\n",
       "      <td>0.0</td>\n",
       "      <td>0.0</td>\n",
       "      <td>0.0</td>\n",
       "      <td>0.0</td>\n",
       "    </tr>\n",
       "  </tbody>\n",
       "</table>\n",
       "<p>124463 rows × 92 columns</p>\n",
       "</div>"
      ],
      "text/plain": [
       "                #CHROM  POS  K10G  K12G  K13G  K16G  K21G  K23G  K25G  K28G  \\\n",
       "0       EGOHCJCO_00001  174   0.0   0.0   0.0   0.0   0.0   0.0   0.0   0.0   \n",
       "1       EGOHCJCO_00001  184   0.0   0.0   0.0   0.0   0.0   0.0   0.0   0.0   \n",
       "2       EGOHCJCO_00003  136   0.0   0.0   0.0   0.0   0.0   0.0   0.0   0.0   \n",
       "3       EGOHCJCO_00006  297   0.0   0.0   0.0   0.0   0.0   0.0   0.0   0.0   \n",
       "4       EGOHCJCO_00006  342   0.0   0.0   0.0   0.0   0.0   0.0   0.0   0.0   \n",
       "...                ...  ...   ...   ...   ...   ...   ...   ...   ...   ...   \n",
       "124458  KMKHEIEB_02137  387   0.0   0.0   0.0   0.0   0.0   0.0   0.0   0.0   \n",
       "124459  KMKHEIEB_02144  443   0.0   2.0   1.0   1.0   1.0   1.0   0.0   1.0   \n",
       "124460  KMKHEIEB_02144  471   0.0   2.0   1.0   1.0   1.0   1.0   0.0   1.0   \n",
       "124461  KMKHEIEB_02144  473   0.0   2.0   1.0   0.0   1.0   1.0   0.0   1.0   \n",
       "124462  KMKHEIEB_02148  306   0.0   0.0   0.0   0.0   0.0   0.0   0.0   0.0   \n",
       "\n",
       "        ...  metaspades_90  metaspades_91  metaspades_92  metaspades_93  \\\n",
       "0       ...            0.0            0.0            0.0            0.0   \n",
       "1       ...            0.0            0.0            0.0            0.0   \n",
       "2       ...            0.0            0.0            0.0            0.0   \n",
       "3       ...            1.0            1.0            1.0            1.0   \n",
       "4       ...            1.0            1.0            1.0            1.0   \n",
       "...     ...            ...            ...            ...            ...   \n",
       "124458  ...            0.0            0.0            0.0            0.0   \n",
       "124459  ...            0.0            0.0            0.0            0.0   \n",
       "124460  ...            0.0            0.0            0.0            0.0   \n",
       "124461  ...            0.0            0.0            0.0            0.0   \n",
       "124462  ...            0.0            0.0            0.0            0.0   \n",
       "\n",
       "        metaspades_94  metawrap_assemle_2487B  metawrap_assemle_2487C  \\\n",
       "0                 0.0                     2.0                     2.0   \n",
       "1                 0.0                     2.0                     2.0   \n",
       "2                 0.0                     2.0                     2.0   \n",
       "3                 1.0                     1.0                     1.0   \n",
       "4                 1.0                     2.0                     2.0   \n",
       "...               ...                     ...                     ...   \n",
       "124458            0.0                     0.0                     0.0   \n",
       "124459            0.0                     0.0                     0.0   \n",
       "124460            0.0                     0.0                     0.0   \n",
       "124461            0.0                     0.0                     0.0   \n",
       "124462            0.0                     0.0                     0.0   \n",
       "\n",
       "        metawrap_assemle_2487D  metawrap_assemle_2487E  read  \n",
       "0                          2.0                     0.0   0.0  \n",
       "1                          2.0                     0.0   0.0  \n",
       "2                          2.0                     2.0   0.0  \n",
       "3                          1.0                     1.0   0.0  \n",
       "4                          2.0                     2.0   0.0  \n",
       "...                        ...                     ...   ...  \n",
       "124458                     0.0                     0.0   0.0  \n",
       "124459                     0.0                     0.0   0.0  \n",
       "124460                     0.0                     0.0   0.0  \n",
       "124461                     0.0                     0.0   0.0  \n",
       "124462                     0.0                     0.0   0.0  \n",
       "\n",
       "[124463 rows x 92 columns]"
      ]
     },
     "execution_count": 2,
     "metadata": {},
     "output_type": "execute_result"
    }
   ],
   "source": [
    "wna_data = pd.read_csv('../data/p2_fmt_wNA.csv',sep='\\t')\n",
    "wna_data.iloc[:,2:] = wna_data.iloc[:,2:].add(1).fillna(0) # 填补0并将所有值+1\n",
    "wna_data"
   ]
  },
  {
   "cell_type": "code",
   "execution_count": 142,
   "metadata": {},
   "outputs": [
    {
     "data": {
      "text/html": [
       "<div>\n",
       "<style scoped>\n",
       "    .dataframe tbody tr th:only-of-type {\n",
       "        vertical-align: middle;\n",
       "    }\n",
       "\n",
       "    .dataframe tbody tr th {\n",
       "        vertical-align: top;\n",
       "    }\n",
       "\n",
       "    .dataframe thead th {\n",
       "        text-align: right;\n",
       "    }\n",
       "</style>\n",
       "<table border=\"1\" class=\"dataframe\">\n",
       "  <thead>\n",
       "    <tr style=\"text-align: right;\">\n",
       "      <th></th>\n",
       "      <th>Id</th>\n",
       "      <th>region1</th>\n",
       "      <th>region2</th>\n",
       "    </tr>\n",
       "  </thead>\n",
       "  <tbody>\n",
       "    <tr>\n",
       "      <th>0</th>\n",
       "      <td>K10G</td>\n",
       "      <td>KA</td>\n",
       "      <td>KA</td>\n",
       "    </tr>\n",
       "    <tr>\n",
       "      <th>1</th>\n",
       "      <td>K12G</td>\n",
       "      <td>KA</td>\n",
       "      <td>KA</td>\n",
       "    </tr>\n",
       "    <tr>\n",
       "      <th>2</th>\n",
       "      <td>K13G</td>\n",
       "      <td>KA</td>\n",
       "      <td>KA</td>\n",
       "    </tr>\n",
       "    <tr>\n",
       "      <th>3</th>\n",
       "      <td>K16G</td>\n",
       "      <td>KA</td>\n",
       "      <td>KA</td>\n",
       "    </tr>\n",
       "    <tr>\n",
       "      <th>4</th>\n",
       "      <td>K21G</td>\n",
       "      <td>KA</td>\n",
       "      <td>KA</td>\n",
       "    </tr>\n",
       "  </tbody>\n",
       "</table>\n",
       "</div>"
      ],
      "text/plain": [
       "      Id region1 region2\n",
       "0  K10G       KA      KA\n",
       "1  K12G       KA      KA\n",
       "2  K13G       KA      KA\n",
       "3  K16G       KA      KA\n",
       "4  K21G       KA      KA"
      ]
     },
     "execution_count": 142,
     "metadata": {},
     "output_type": "execute_result"
    }
   ],
   "source": [
    "region = pd.read_csv('../data/id_region.txt',sep='\\t')\n",
    "region.head()"
   ]
  },
  {
   "cell_type": "code",
   "execution_count": 3,
   "metadata": {},
   "outputs": [
    {
     "data": {
      "text/plain": [
       "<Axes: ylabel='Frequency'>"
      ]
     },
     "execution_count": 3,
     "metadata": {},
     "output_type": "execute_result"
    },
    {
     "data": {
      "image/png": "[encoded data removed]",
      "text/plain": [
       "<Figure size 640x480 with 1 Axes>"
      ]
     },
     "metadata": {},
     "output_type": "display_data"
    }
   ],
   "source": [
    "wna_data.iloc[:,2:].sum(axis=1).plot(kind='hist',bins=100)"
   ]
  },
  {
   "cell_type": "code",
   "execution_count": 4,
   "metadata": {},
   "outputs": [
    {
     "data": {
      "text/plain": [
       "(array([ 7., 15., 38., 23., 55., 57., 54., 45., 46., 41., 44., 29., 26.,\n",
       "        10., 12.,  3.,  7.,  6., 22., 12., 32., 15., 41., 75., 23., 17.,\n",
       "        20.,  4., 22., 16., 14., 13., 18., 18., 40.,  9., 21.,  6.,  2.,\n",
       "         1.,  4.,  2.,  3.,  3.,  3.,  2.,  2.,  1.,  1.,  1.,  2.,  0.,\n",
       "         0.,  1.,  2.,  1.,  3.,  1.,  1.,  1.,  0.,  0.,  1.,  1.,  1.,\n",
       "         0.,  1.,  2.,  0.,  0.,  0.,  0.,  1.,  0.,  0.,  0.,  0.,  0.,\n",
       "         0.,  0.,  0.,  0.,  0.,  0.,  0.,  0.,  0.,  0.,  0.,  0.,  0.,\n",
       "         0.,  0.,  0.,  0.,  0.,  0.,  0.,  0.,  0.]),\n",
       " array([  0. ,   2.5,   5. ,   7.5,  10. ,  12.5,  15. ,  17.5,  20. ,\n",
       "         22.5,  25. ,  27.5,  30. ,  32.5,  35. ,  37.5,  40. ,  42.5,\n",
       "         45. ,  47.5,  50. ,  52.5,  55. ,  57.5,  60. ,  62.5,  65. ,\n",
       "         67.5,  70. ,  72.5,  75. ,  77.5,  80. ,  82.5,  85. ,  87.5,\n",
       "         90. ,  92.5,  95. ,  97.5, 100. , 102.5, 105. , 107.5, 110. ,\n",
       "        112.5, 115. , 117.5, 120. , 122.5, 125. , 127.5, 130. , 132.5,\n",
       "        135. , 137.5, 140. , 142.5, 145. , 147.5, 150. , 152.5, 155. ,\n",
       "        157.5, 160. , 162.5, 165. , 167.5, 170. , 172.5, 175. , 177.5,\n",
       "        180. , 182.5, 185. , 187.5, 190. , 192.5, 195. , 197.5, 200. ,\n",
       "        202.5, 205. , 207.5, 210. , 212.5, 215. , 217.5, 220. , 222.5,\n",
       "        225. , 227.5, 230. , 232.5, 235. , 237.5, 240. , 242.5, 245. ,\n",
       "        247.5, 250. ]),\n",
       " <BarContainer object of 100 artists>)"
      ]
     },
     "execution_count": 4,
     "metadata": {},
     "output_type": "execute_result"
    },
    {
     "data": {
      "image/png": "[encoded data removed]",
      "text/plain": [
       "<Figure size 640x480 with 1 Axes>"
      ]
     },
     "metadata": {},
     "output_type": "display_data"
    }
   ],
   "source": [
    "sampled_data = np.random.choice(wna_data.iloc[:,2:].sum(axis=1),1000,replace=False)\n",
    "plt.hist(sampled_data,bins=100,range=(0,250))"
   ]
  },
  {
   "cell_type": "code",
   "execution_count": 130,
   "metadata": {},
   "outputs": [
    {
     "name": "stdout",
     "output_type": "stream",
     "text": [
      "Mapping Dictionary:\n",
      "{(0, 0.0): -4.313499744566735, (1, 0.0): -4.15776195605302, (2, 0.0): -4.06415348342587, (3, 0.0): -3.9965359284656676, (4, 0.0): -3.943368178326786, (5, 0.0): -3.8994430888479874, (6, 0.0): -3.8619551313400096, (7, 0.0): -3.8292157695611646, (8, 0.0): -3.8001281277151793, (9, 0.0): -3.7739385992674377}\n"
     ]
    }
   ],
   "source": [
    "import numpy as np\n",
    "import scipy.stats as stats\n",
    "\n",
    "# 假设data是来自未知分布的一组数据\n",
    "# data = np.random.choice(wna_data.iloc[:,2:].sum(axis=1),1000,replace=False)\n",
    "# data = wna_data.iloc[:,2:].sum(axis=1)\n",
    "data = wna_data.iloc[:,2:]\n",
    "\n",
    "\n",
    "# 记录原始数据和序号\n",
    "original_data_with_index = list(enumerate(data.iloc[:,0]))\n",
    "\n",
    "# 计算经验分布函数 (ECDF) 的值\n",
    "data_sorted = np.sort(data)\n",
    "cdf = np.arange(1, len(data) + 1) / len(data)\n",
    "\n",
    "# 计算正态分布的值\n",
    "normal_data = stats.norm.ppf(cdf)\n",
    "\n",
    "# 建立映射关系\n",
    "mapping_dict = {}\n",
    "mapping_dict_idx = {}\n",
    "\n",
    "for (idx, original_value), transformed_value in zip(original_data_with_index, normal_data):\n",
    "    mapping_dict[(idx, original_value)] = transformed_value\n",
    "    mapping_dict_idx[idx] = transformed_value\n",
    "\n",
    "# 打印映射关系的部分数据\n",
    "print(\"Mapping Dictionary:\")\n",
    "print({k: mapping_dict[k] for k in list(mapping_dict)[:10]})"
   ]
  },
  {
   "cell_type": "code",
   "execution_count": 132,
   "metadata": {},
   "outputs": [
    {
     "data": {
      "image/png": "[encoded data removed]",
      "text/plain": [
       "<Figure size 640x480 with 1 Axes>"
      ]
     },
     "metadata": {},
     "output_type": "display_data"
    }
   ],
   "source": [
    "plt.hist(pd.DataFrame(original_data_with_index).iloc[:,1],bins=100)\n",
    "plt.show()"
   ]
  },
  {
   "cell_type": "code",
   "execution_count": 134,
   "metadata": {},
   "outputs": [
    {
     "data": {
      "image/png": "[encoded data removed]",
      "text/plain": [
       "<Figure size 640x480 with 2 Axes>"
      ]
     },
     "metadata": {},
     "output_type": "display_data"
    }
   ],
   "source": [
    "fig,ax = plt.subplots(1,2)\n",
    "df = pd.DataFrame([mapping_dict_idx]).T.drop(index=len(data)-1)\n",
    "ax[0].scatter(df.index.values,df.values)\n",
    "ax[1].hist(df,bins=100)\n",
    "plt.show()"
   ]
  },
  {
   "cell_type": "code",
   "execution_count": 135,
   "metadata": {},
   "outputs": [
    {
     "data": {
      "text/plain": [
       "array([[<Axes: title={'center': '0'}>]], dtype=object)"
      ]
     },
     "execution_count": 135,
     "metadata": {},
     "output_type": "execute_result"
    },
    {
     "data": {
      "image/png": "[encoded data removed]",
      "text/plain": [
       "<Figure size 640x480 with 1 Axes>"
      ]
     },
     "metadata": {},
     "output_type": "display_data"
    }
   ],
   "source": [
    "# ramdom sampling\n",
    "sampled_data = df.sample(1000)\n",
    "sampled_data.hist(bins=100)"
   ]
  },
  {
   "cell_type": "code",
   "execution_count": 136,
   "metadata": {},
   "outputs": [
    {
     "data": {
      "text/plain": [
       "<Axes: ylabel='Frequency'>"
      ]
     },
     "execution_count": 136,
     "metadata": {},
     "output_type": "execute_result"
    },
    {
     "data": {
      "image/png": "[encoded data removed]",
      "text/plain": [
       "<Figure size 640x480 with 1 Axes>"
      ]
     },
     "metadata": {},
     "output_type": "display_data"
    }
   ],
   "source": [
    "# sampled data in original set\n",
    "pd.DataFrame(original_data_with_index).iloc[sampled_data.index,:].plot(kind='hist',x=0,y=1,bins=100)"
   ]
  },
  {
   "cell_type": "code",
   "execution_count": 139,
   "metadata": {},
   "outputs": [
    {
     "data": {
      "text/html": [
       "<div>\n",
       "<style scoped>\n",
       "    .dataframe tbody tr th:only-of-type {\n",
       "        vertical-align: middle;\n",
       "    }\n",
       "\n",
       "    .dataframe tbody tr th {\n",
       "        vertical-align: top;\n",
       "    }\n",
       "\n",
       "    .dataframe thead th {\n",
       "        text-align: right;\n",
       "    }\n",
       "</style>\n",
       "<table border=\"1\" class=\"dataframe\">\n",
       "  <thead>\n",
       "    <tr style=\"text-align: right;\">\n",
       "      <th></th>\n",
       "      <th>K10G</th>\n",
       "      <th>K12G</th>\n",
       "      <th>K13G</th>\n",
       "      <th>K16G</th>\n",
       "      <th>K21G</th>\n",
       "      <th>K23G</th>\n",
       "      <th>K25G</th>\n",
       "      <th>K28G</th>\n",
       "      <th>K29G</th>\n",
       "      <th>K38G</th>\n",
       "      <th>...</th>\n",
       "      <th>metaspades_90</th>\n",
       "      <th>metaspades_91</th>\n",
       "      <th>metaspades_92</th>\n",
       "      <th>metaspades_93</th>\n",
       "      <th>metaspades_94</th>\n",
       "      <th>metawrap_assemle_2487B</th>\n",
       "      <th>metawrap_assemle_2487C</th>\n",
       "      <th>metawrap_assemle_2487D</th>\n",
       "      <th>metawrap_assemle_2487E</th>\n",
       "      <th>read</th>\n",
       "    </tr>\n",
       "  </thead>\n",
       "  <tbody>\n",
       "    <tr>\n",
       "      <th>99704</th>\n",
       "      <td>0.0</td>\n",
       "      <td>0.0</td>\n",
       "      <td>0.0</td>\n",
       "      <td>0.0</td>\n",
       "      <td>0.0</td>\n",
       "      <td>0.0</td>\n",
       "      <td>0.0</td>\n",
       "      <td>0.0</td>\n",
       "      <td>0.0</td>\n",
       "      <td>0.0</td>\n",
       "      <td>...</td>\n",
       "      <td>0.0</td>\n",
       "      <td>0.0</td>\n",
       "      <td>0.0</td>\n",
       "      <td>0.0</td>\n",
       "      <td>0.0</td>\n",
       "      <td>0.0</td>\n",
       "      <td>0.0</td>\n",
       "      <td>0.0</td>\n",
       "      <td>0.0</td>\n",
       "      <td>0.0</td>\n",
       "    </tr>\n",
       "    <tr>\n",
       "      <th>76141</th>\n",
       "      <td>1.0</td>\n",
       "      <td>0.0</td>\n",
       "      <td>2.0</td>\n",
       "      <td>0.0</td>\n",
       "      <td>0.0</td>\n",
       "      <td>1.0</td>\n",
       "      <td>1.0</td>\n",
       "      <td>0.0</td>\n",
       "      <td>0.0</td>\n",
       "      <td>2.0</td>\n",
       "      <td>...</td>\n",
       "      <td>1.0</td>\n",
       "      <td>1.0</td>\n",
       "      <td>1.0</td>\n",
       "      <td>1.0</td>\n",
       "      <td>1.0</td>\n",
       "      <td>1.0</td>\n",
       "      <td>1.0</td>\n",
       "      <td>1.0</td>\n",
       "      <td>1.0</td>\n",
       "      <td>1.0</td>\n",
       "    </tr>\n",
       "    <tr>\n",
       "      <th>13812</th>\n",
       "      <td>1.0</td>\n",
       "      <td>1.0</td>\n",
       "      <td>1.0</td>\n",
       "      <td>1.0</td>\n",
       "      <td>1.0</td>\n",
       "      <td>1.0</td>\n",
       "      <td>1.0</td>\n",
       "      <td>1.0</td>\n",
       "      <td>1.0</td>\n",
       "      <td>1.0</td>\n",
       "      <td>...</td>\n",
       "      <td>0.0</td>\n",
       "      <td>0.0</td>\n",
       "      <td>0.0</td>\n",
       "      <td>0.0</td>\n",
       "      <td>0.0</td>\n",
       "      <td>0.0</td>\n",
       "      <td>0.0</td>\n",
       "      <td>0.0</td>\n",
       "      <td>0.0</td>\n",
       "      <td>1.0</td>\n",
       "    </tr>\n",
       "    <tr>\n",
       "      <th>425</th>\n",
       "      <td>0.0</td>\n",
       "      <td>0.0</td>\n",
       "      <td>0.0</td>\n",
       "      <td>0.0</td>\n",
       "      <td>0.0</td>\n",
       "      <td>0.0</td>\n",
       "      <td>0.0</td>\n",
       "      <td>0.0</td>\n",
       "      <td>0.0</td>\n",
       "      <td>0.0</td>\n",
       "      <td>...</td>\n",
       "      <td>0.0</td>\n",
       "      <td>0.0</td>\n",
       "      <td>0.0</td>\n",
       "      <td>0.0</td>\n",
       "      <td>0.0</td>\n",
       "      <td>2.0</td>\n",
       "      <td>2.0</td>\n",
       "      <td>2.0</td>\n",
       "      <td>2.0</td>\n",
       "      <td>0.0</td>\n",
       "    </tr>\n",
       "    <tr>\n",
       "      <th>577</th>\n",
       "      <td>0.0</td>\n",
       "      <td>0.0</td>\n",
       "      <td>0.0</td>\n",
       "      <td>0.0</td>\n",
       "      <td>0.0</td>\n",
       "      <td>0.0</td>\n",
       "      <td>0.0</td>\n",
       "      <td>0.0</td>\n",
       "      <td>0.0</td>\n",
       "      <td>0.0</td>\n",
       "      <td>...</td>\n",
       "      <td>1.0</td>\n",
       "      <td>1.0</td>\n",
       "      <td>1.0</td>\n",
       "      <td>1.0</td>\n",
       "      <td>1.0</td>\n",
       "      <td>2.0</td>\n",
       "      <td>2.0</td>\n",
       "      <td>2.0</td>\n",
       "      <td>2.0</td>\n",
       "      <td>0.0</td>\n",
       "    </tr>\n",
       "    <tr>\n",
       "      <th>...</th>\n",
       "      <td>...</td>\n",
       "      <td>...</td>\n",
       "      <td>...</td>\n",
       "      <td>...</td>\n",
       "      <td>...</td>\n",
       "      <td>...</td>\n",
       "      <td>...</td>\n",
       "      <td>...</td>\n",
       "      <td>...</td>\n",
       "      <td>...</td>\n",
       "      <td>...</td>\n",
       "      <td>...</td>\n",
       "      <td>...</td>\n",
       "      <td>...</td>\n",
       "      <td>...</td>\n",
       "      <td>...</td>\n",
       "      <td>...</td>\n",
       "      <td>...</td>\n",
       "      <td>...</td>\n",
       "      <td>...</td>\n",
       "      <td>...</td>\n",
       "    </tr>\n",
       "    <tr>\n",
       "      <th>121737</th>\n",
       "      <td>1.0</td>\n",
       "      <td>0.0</td>\n",
       "      <td>1.0</td>\n",
       "      <td>0.0</td>\n",
       "      <td>0.0</td>\n",
       "      <td>1.0</td>\n",
       "      <td>0.0</td>\n",
       "      <td>0.0</td>\n",
       "      <td>0.0</td>\n",
       "      <td>0.0</td>\n",
       "      <td>...</td>\n",
       "      <td>2.0</td>\n",
       "      <td>2.0</td>\n",
       "      <td>2.0</td>\n",
       "      <td>2.0</td>\n",
       "      <td>2.0</td>\n",
       "      <td>2.0</td>\n",
       "      <td>2.0</td>\n",
       "      <td>2.0</td>\n",
       "      <td>0.0</td>\n",
       "      <td>1.0</td>\n",
       "    </tr>\n",
       "    <tr>\n",
       "      <th>84607</th>\n",
       "      <td>0.0</td>\n",
       "      <td>0.0</td>\n",
       "      <td>0.0</td>\n",
       "      <td>0.0</td>\n",
       "      <td>0.0</td>\n",
       "      <td>0.0</td>\n",
       "      <td>0.0</td>\n",
       "      <td>0.0</td>\n",
       "      <td>0.0</td>\n",
       "      <td>0.0</td>\n",
       "      <td>...</td>\n",
       "      <td>0.0</td>\n",
       "      <td>0.0</td>\n",
       "      <td>0.0</td>\n",
       "      <td>0.0</td>\n",
       "      <td>0.0</td>\n",
       "      <td>0.0</td>\n",
       "      <td>0.0</td>\n",
       "      <td>0.0</td>\n",
       "      <td>0.0</td>\n",
       "      <td>0.0</td>\n",
       "    </tr>\n",
       "    <tr>\n",
       "      <th>25240</th>\n",
       "      <td>1.0</td>\n",
       "      <td>1.0</td>\n",
       "      <td>1.0</td>\n",
       "      <td>1.0</td>\n",
       "      <td>1.0</td>\n",
       "      <td>1.0</td>\n",
       "      <td>1.0</td>\n",
       "      <td>1.0</td>\n",
       "      <td>1.0</td>\n",
       "      <td>1.0</td>\n",
       "      <td>...</td>\n",
       "      <td>0.0</td>\n",
       "      <td>0.0</td>\n",
       "      <td>0.0</td>\n",
       "      <td>0.0</td>\n",
       "      <td>0.0</td>\n",
       "      <td>0.0</td>\n",
       "      <td>0.0</td>\n",
       "      <td>0.0</td>\n",
       "      <td>0.0</td>\n",
       "      <td>1.0</td>\n",
       "    </tr>\n",
       "    <tr>\n",
       "      <th>16083</th>\n",
       "      <td>1.0</td>\n",
       "      <td>1.0</td>\n",
       "      <td>2.0</td>\n",
       "      <td>2.0</td>\n",
       "      <td>2.0</td>\n",
       "      <td>2.0</td>\n",
       "      <td>1.0</td>\n",
       "      <td>2.0</td>\n",
       "      <td>2.0</td>\n",
       "      <td>2.0</td>\n",
       "      <td>...</td>\n",
       "      <td>0.0</td>\n",
       "      <td>0.0</td>\n",
       "      <td>0.0</td>\n",
       "      <td>0.0</td>\n",
       "      <td>0.0</td>\n",
       "      <td>0.0</td>\n",
       "      <td>0.0</td>\n",
       "      <td>0.0</td>\n",
       "      <td>0.0</td>\n",
       "      <td>1.0</td>\n",
       "    </tr>\n",
       "    <tr>\n",
       "      <th>83270</th>\n",
       "      <td>0.0</td>\n",
       "      <td>0.0</td>\n",
       "      <td>0.0</td>\n",
       "      <td>0.0</td>\n",
       "      <td>0.0</td>\n",
       "      <td>0.0</td>\n",
       "      <td>0.0</td>\n",
       "      <td>0.0</td>\n",
       "      <td>0.0</td>\n",
       "      <td>0.0</td>\n",
       "      <td>...</td>\n",
       "      <td>0.0</td>\n",
       "      <td>0.0</td>\n",
       "      <td>0.0</td>\n",
       "      <td>0.0</td>\n",
       "      <td>0.0</td>\n",
       "      <td>0.0</td>\n",
       "      <td>0.0</td>\n",
       "      <td>0.0</td>\n",
       "      <td>0.0</td>\n",
       "      <td>0.0</td>\n",
       "    </tr>\n",
       "  </tbody>\n",
       "</table>\n",
       "<p>1000 rows × 90 columns</p>\n",
       "</div>"
      ],
      "text/plain": [
       "        K10G  K12G  K13G  K16G  K21G  K23G  K25G  K28G  K29G  K38G  ...  \\\n",
       "99704    0.0   0.0   0.0   0.0   0.0   0.0   0.0   0.0   0.0   0.0  ...   \n",
       "76141    1.0   0.0   2.0   0.0   0.0   1.0   1.0   0.0   0.0   2.0  ...   \n",
       "13812    1.0   1.0   1.0   1.0   1.0   1.0   1.0   1.0   1.0   1.0  ...   \n",
       "425      0.0   0.0   0.0   0.0   0.0   0.0   0.0   0.0   0.0   0.0  ...   \n",
       "577      0.0   0.0   0.0   0.0   0.0   0.0   0.0   0.0   0.0   0.0  ...   \n",
       "...      ...   ...   ...   ...   ...   ...   ...   ...   ...   ...  ...   \n",
       "121737   1.0   0.0   1.0   0.0   0.0   1.0   0.0   0.0   0.0   0.0  ...   \n",
       "84607    0.0   0.0   0.0   0.0   0.0   0.0   0.0   0.0   0.0   0.0  ...   \n",
       "25240    1.0   1.0   1.0   1.0   1.0   1.0   1.0   1.0   1.0   1.0  ...   \n",
       "16083    1.0   1.0   2.0   2.0   2.0   2.0   1.0   2.0   2.0   2.0  ...   \n",
       "83270    0.0   0.0   0.0   0.0   0.0   0.0   0.0   0.0   0.0   0.0  ...   \n",
       "\n",
       "        metaspades_90  metaspades_91  metaspades_92  metaspades_93  \\\n",
       "99704             0.0            0.0            0.0            0.0   \n",
       "76141             1.0            1.0            1.0            1.0   \n",
       "13812             0.0            0.0            0.0            0.0   \n",
       "425               0.0            0.0            0.0            0.0   \n",
       "577               1.0            1.0            1.0            1.0   \n",
       "...               ...            ...            ...            ...   \n",
       "121737            2.0            2.0            2.0            2.0   \n",
       "84607             0.0            0.0            0.0            0.0   \n",
       "25240             0.0            0.0            0.0            0.0   \n",
       "16083             0.0            0.0            0.0            0.0   \n",
       "83270             0.0            0.0            0.0            0.0   \n",
       "\n",
       "        metaspades_94  metawrap_assemle_2487B  metawrap_assemle_2487C  \\\n",
       "99704             0.0                     0.0                     0.0   \n",
       "76141             1.0                     1.0                     1.0   \n",
       "13812             0.0                     0.0                     0.0   \n",
       "425               0.0                     2.0                     2.0   \n",
       "577               1.0                     2.0                     2.0   \n",
       "...               ...                     ...                     ...   \n",
       "121737            2.0                     2.0                     2.0   \n",
       "84607             0.0                     0.0                     0.0   \n",
       "25240             0.0                     0.0                     0.0   \n",
       "16083             0.0                     0.0                     0.0   \n",
       "83270             0.0                     0.0                     0.0   \n",
       "\n",
       "        metawrap_assemle_2487D  metawrap_assemle_2487E  read  \n",
       "99704                      0.0                     0.0   0.0  \n",
       "76141                      1.0                     1.0   1.0  \n",
       "13812                      0.0                     0.0   1.0  \n",
       "425                        2.0                     2.0   0.0  \n",
       "577                        2.0                     2.0   0.0  \n",
       "...                        ...                     ...   ...  \n",
       "121737                     2.0                     0.0   1.0  \n",
       "84607                      0.0                     0.0   0.0  \n",
       "25240                      0.0                     0.0   1.0  \n",
       "16083                      0.0                     0.0   1.0  \n",
       "83270                      0.0                     0.0   0.0  \n",
       "\n",
       "[1000 rows x 90 columns]"
      ]
     },
     "execution_count": 139,
     "metadata": {},
     "output_type": "execute_result"
    }
   ],
   "source": [
    "data.iloc[sampled_data.index,:]"
   ]
  },
  {
   "cell_type": "code",
   "execution_count": 143,
   "metadata": {},
   "outputs": [
    {
     "name": "stdout",
     "output_type": "stream",
     "text": [
      "cumulative variance explained: 62.02%\n"
     ]
    },
    {
     "data": {
      "image/png": "[encoded data removed]",
      "text/plain": [
       "<Figure size 640x480 with 1 Axes>"
      ]
     },
     "metadata": {},
     "output_type": "display_data"
    }
   ],
   "source": [
    "def conduct_pca(data, n_components=2):\n",
    "    pca = PCA(n_components=2)\n",
    "    pca_result = pca.fit_transform(data.T)\n",
    "\n",
    "    cumulative_variance_explained = np.cumsum(pca.explained_variance_ratio_)\n",
    "    print(f\"cumulative variance explained: {cumulative_variance_explained[-1]:.2%}\")\n",
    "\n",
    "    pca_region = pd.concat([region,pd.DataFrame(pca_result,columns=['pc1','pc2'])],axis=1)\n",
    "    sns.scatterplot(data=pca_region, x=\"pc1\", y=\"pc2\", hue=\"region1\")\n",
    "    plt.xlabel(f\"PC1 {pca.explained_variance_ratio_[0]:.02%}\")\n",
    "    plt.ylabel(f\"PC2 {pca.explained_variance_ratio_[1]:.02%}\")\n",
    "    plt.title('PCA - original data')\n",
    "    return None\n",
    "\n",
    "conduct_pca(data, n_components=2)"
   ]
  },
  {
   "cell_type": "code",
   "execution_count": 144,
   "metadata": {},
   "outputs": [
    {
     "name": "stdout",
     "output_type": "stream",
     "text": [
      "cumulative variance explained: 61.81%\n"
     ]
    },
    {
     "data": {
      "image/png": "[encoded data removed]",
      "text/plain": [
       "<Figure size 640x480 with 1 Axes>"
      ]
     },
     "metadata": {},
     "output_type": "display_data"
    }
   ],
   "source": [
    "conduct_pca(data.iloc[sampled_data.index,:], n_components=2)"
   ]
  },
  {
   "cell_type": "markdown",
   "metadata": {},
   "source": [
    "## KDE"
   ]
  },
  {
   "cell_type": "code",
   "execution_count": 21,
   "metadata": {},
   "outputs": [
    {
     "data": {
      "image/png": "[encoded data removed]",
      "text/plain": [
       "<Figure size 640x480 with 1 Axes>"
      ]
     },
     "metadata": {},
     "output_type": "display_data"
    }
   ],
   "source": [
    "import numpy as np\n",
    "import matplotlib.pyplot as plt\n",
    "from scipy.stats import gaussian_kde\n",
    "\n",
    "# 生成一些示例数据\n",
    "np.random.seed(0)\n",
    "# data = np.concatenate([np.random.randn(1000) - 2, np.random.randn(1000) + 2])\n",
    "data = wna_data.iloc[:,2:].sum(axis=1).values\n",
    "\n",
    "# 进行核密度估计\n",
    "kde = gaussian_kde(data)\n",
    "\n",
    "# 绘制原始数据的直方图\n",
    "plt.hist(data, bins=20, density=True, color='r', alpha=0.5, label='Original Data')\n",
    "\n",
    "# 绘制估计的概率密度函数\n",
    "x = np.linspace(min(data), max(data), 1000)\n",
    "plt.plot(x, kde.evaluate(x), label='KDE')\n",
    "\n",
    "# 从估计的概率密度函数中采样\n",
    "sampled_data = kde.resample(1000)  # 200是想要采样的数据点数量\n",
    "plt.hist(sampled_data, bins=20, density=True ,alpha=0.5, label='Sampled Data')\n",
    "\n",
    "plt.legend()\n",
    "plt.show()"
   ]
  },
  {
   "cell_type": "markdown",
   "metadata": {},
   "source": [
    "## 1. sparse PCA\n"
   ]
  },
  {
   "cell_type": "code",
   "execution_count": 88,
   "metadata": {},
   "outputs": [
    {
     "name": "stderr",
     "output_type": "stream",
     "text": [
      "/Users/houce/anaconda3/envs/torch_env/lib/python3.8/site-packages/sklearn/cluster/_kmeans.py:870: FutureWarning: The default value of `n_init` will change from 10 to 'auto' in 1.4. Set the value of `n_init` explicitly to suppress the warning\n",
      "  warnings.warn(\n"
     ]
    }
   ],
   "source": [
    "kmeans = KMeans(n_clusters=1000, random_state=0)\n",
    "kmeans.fit(wna_data.iloc[:,2:])\n",
    "sampled_data = []\n",
    "\n",
    "for i in range(1000):\n",
    "    indices = np.where(kmeans.labels_ == i)[0]\n",
    "    sampled_index = np.random.choice(indices)\n",
    "    sampled_data.append(wna_data.iloc[sampled_index,2:])\n",
    "\n",
    "sampled_data = np.array(sampled_data)"
   ]
  },
  {
   "cell_type": "code",
   "execution_count": 87,
   "metadata": {},
   "outputs": [
    {
     "name": "stdout",
     "output_type": "stream",
     "text": [
      "cumulative variance explained: 100.00%\n"
     ]
    }
   ],
   "source": [
    "pca = PCA(n_components=90)\n",
    "pca_result = pca.fit_transform(wna_data.iloc[:,2:].T)\n",
    "\n",
    "cumulative_variance_explained = np.cumsum(pca.explained_variance_ratio_)\n",
    "print(f\"cumulative variance explained: {cumulative_variance_explained[-1]:.2%}\")"
   ]
  },
  {
   "cell_type": "code",
   "execution_count": 79,
   "metadata": {},
   "outputs": [],
   "source": [
    "data = np.array(wna_data.iloc[:,2:])"
   ]
  },
  {
   "cell_type": "code",
   "execution_count": 130,
   "metadata": {},
   "outputs": [
    {
     "name": "stdout",
     "output_type": "stream",
     "text": [
      "T-value: [  6.80660415   2.82346277   0.51867074   5.92523474   8.04696769\n",
      "   4.81080159   6.60862639   5.30663744   6.40254968  -0.63745929\n",
      "   6.85645285   3.85059929   7.01592773  -5.4895013   -2.39380914\n",
      "  -1.90870019  -6.37505645  -3.75062534  -4.24168379  -4.68881259\n",
      "  -4.7214847   -4.88611568  -4.62169304  -4.09422252  -3.66439751\n",
      "  -4.97298229  -7.80151155 -10.17278275  -8.96643053 -11.91190699\n",
      " -10.23577782 -10.93260476  -4.43380449  -4.46941755  -9.98805632\n",
      " -10.22671202 -11.10565429 -11.35182379 -11.04393049  -9.8031571\n",
      "  -9.93951226 -14.90005378 -14.22355654 -13.39610409 -13.076605\n",
      " -14.27739891 -14.80303823 -14.19212282 -15.78456795 -12.06226177\n",
      "  -8.88117211 -14.8399112  -14.88197376  -4.50823151  -3.54103203\n",
      "  -4.38570752  -4.09191353  -3.9089359   -3.7698625   -3.83256769\n",
      "  -3.12926415  -3.69247285  -3.5452235   -3.86911374  -3.55653824\n",
      "  -1.4738775   -3.52061796  -3.04873362   9.66092533  -2.74659595\n",
      "  -3.57162137  -8.05186011 -10.15317094  -8.11961105  -6.80557721\n",
      "  -9.91425715  -7.39821683 -10.06515346  -9.44233487 -10.07299507\n",
      " -10.66182207 -10.75179536 -11.50075664 -11.03949597 -11.33020218\n",
      "  -9.1752103   -8.41025095  -6.744731    -7.47097041  -2.13673898]\n",
      "P-value: [1.00375971e-11 4.75154239e-03 6.03991282e-01 3.12661570e-09\n",
      " 8.56043506e-16 1.50500359e-06 3.89446191e-11 1.11854916e-07\n",
      " 1.53340569e-10 5.23826882e-01 7.09160039e-12 1.17887591e-04\n",
      " 2.29577973e-12 4.03847903e-08 1.66758824e-02 5.63030576e-02\n",
      " 1.83527816e-10 1.76473337e-04 2.22007857e-05 2.75083367e-06\n",
      " 2.34381656e-06 1.02971285e-06 3.80998969e-06 4.23852327e-05\n",
      " 2.48023537e-04 6.60174805e-07 6.16378970e-15 2.68070273e-24\n",
      " 3.10346424e-19 1.06860522e-32 1.40177263e-24 8.28661789e-28\n",
      " 9.26630402e-06 7.85014061e-06 1.75430625e-23 1.53923244e-24\n",
      " 1.21432640e-28 7.51119730e-30 2.41712968e-28 1.11188712e-22\n",
      " 2.85807471e-23 3.63578462e-50 7.10524643e-46 6.79888028e-41\n",
      " 4.75183132e-39 3.29056098e-46 1.54188405e-49 1.11218176e-45\n",
      " 4.50054599e-56 1.74425177e-33 6.70053588e-19 8.91354768e-50\n",
      " 4.76253954e-50 6.54292551e-06 3.98709511e-04 1.15703337e-05\n",
      " 4.28095231e-05 9.27522188e-05 1.63412309e-04 1.26874482e-04\n",
      " 1.75284833e-03 2.22178126e-04 3.92422987e-04 1.09286847e-04\n",
      " 3.75912115e-04 1.40517085e-01 4.30695022e-04 2.29855994e-03\n",
      " 4.49753939e-22 6.02258528e-03 3.54910735e-04 8.22518017e-16\n",
      " 3.27763390e-24 4.71869954e-16 1.01094396e-11 3.68086953e-23\n",
      " 1.38881554e-13 8.04232069e-24 3.70512249e-21 7.42654078e-24\n",
      " 1.57633020e-26 5.97140427e-27 1.35470753e-30 2.53931106e-28\n",
      " 9.61409942e-30 4.57253345e-20 4.13347794e-17 1.53971800e-11\n",
      " 8.01187994e-14 3.26211559e-02]\n"
     ]
    }
   ],
   "source": [
    "from scipy.stats import ttest_ind\n",
    "# 计算均值并进行T检验\n",
    "mean_X = np.mean(data, axis=0)\n",
    "mean_X_sampled = np.mean(sampled_data, axis=0)\n",
    "t, p = ttest_ind(data.astype(float), sampled_data.astype(float))\n",
    "\n",
    "# 输出检验结果\n",
    "# print(f\"Mean of original data: {mean_X}\")\n",
    "# print(f\"Mean of sampled data: {mean_X_sampled}\")\n",
    "print(f\"T-value: {t}\")\n",
    "print(f\"P-value: {p}\")"
   ]
  },
  {
   "cell_type": "code",
   "execution_count": 101,
   "metadata": {},
   "outputs": [
    {
     "name": "stdout",
     "output_type": "stream",
     "text": [
      "Pearson correlation coefficient: 0.836370557080349\n"
     ]
    }
   ],
   "source": [
    "from scipy.stats import pearsonr\n",
    "data = np.array(wna_data.iloc[:,2:])\n",
    "\n",
    "def corr_cal(data, sampled_data):\n",
    "    corr_matrix = np.corrcoef(data.T)\n",
    "    corr_matrix_sampled = np.corrcoef(sampled_data.astype(float).T)\n",
    "    corr_coef = pearsonr(corr_matrix.flatten(), corr_matrix_sampled.flatten())[0]\n",
    "    return corr_coef\n",
    "\n",
    "# 输出相关系数\n",
    "print(f\"Pearson correlation coefficient: {corr_cal(data, sampled_data)}\")"
   ]
  },
  {
   "cell_type": "code",
   "execution_count": 129,
   "metadata": {},
   "outputs": [
    {
     "name": "stdout",
     "output_type": "stream",
     "text": [
      "Pearson correlation coefficient: 0.9983818660382677\n",
      "T-value: [-0.05826086 -0.29563064 -0.23937611 -0.21101781 -0.36660978 -0.24882214\n",
      " -0.65594607 -0.82839199 -0.19822549 -1.13942327 -1.1317512  -0.07487845\n",
      " -0.98382585  1.06571857  0.66163601  1.03459619  0.55173942  1.3706246\n",
      "  0.55420615  0.78471186  0.85745108  0.9889169   0.59498787  0.82911798\n",
      "  0.94340662  0.70021342 -1.14731171 -1.12736228 -0.88737731 -1.29704323\n",
      " -1.53424325 -0.93371117 -1.75259061 -1.2392739  -0.93920436 -0.52548108\n",
      " -1.00904403 -0.67494242 -0.41840264 -1.22196762 -0.59817956 -0.52918792\n",
      " -0.34038071  0.04808328 -0.17242442 -0.07083761 -0.05917865 -0.47442882\n",
      " -0.26147179 -0.37638362  0.27984751 -0.09362122 -0.24236093  0.05764778\n",
      "  0.58265606  0.48902941 -0.03312845  0.45781657 -0.01097433  0.37154058\n",
      "  0.41979629  0.66624957  0.19185777  0.25439863  0.38951359 -0.4042558\n",
      " -0.49180608 -0.81687859 -0.49922761 -0.69667061 -0.12316299  0.25518259\n",
      " -0.06960053 -0.05933495  0.18353696  0.77969111  0.30761437  0.34978912\n",
      "  0.12907694  0.34324669  0.33113955  0.85921781  0.46337575  0.64998929\n",
      "  0.97835564 -0.72998398 -0.91280365 -0.48380959 -0.70549242  0.48913889]\n",
      "P-value: [0.95354093 0.76751266 0.81081434 0.83287372 0.71391073 0.80349877\n",
      " 0.51186003 0.40745012 0.84286896 0.25452883 0.25774121 0.94031154\n",
      " 0.32520304 0.28655293 0.50820574 0.30085953 0.58112788 0.17049446\n",
      " 0.57943875 0.43262401 0.39119727 0.32270571 0.55185265 0.40703923\n",
      " 0.34547477 0.48379533 0.251255   0.2595915  0.3748775  0.1946187\n",
      " 0.12497234 0.3504547  0.07967475 0.2152464  0.34762764 0.59924973\n",
      " 0.31295546 0.49971359 0.67565347 0.22172217 0.54972121 0.59667603\n",
      " 0.73357041 0.96164995 0.86310415 0.94352711 0.95280991 0.63519497\n",
      " 0.79372913 0.70663236 0.77959496 0.9254102  0.8085009  0.95402929\n",
      " 0.5601259  0.62482173 0.97357221 0.64708502 0.99124394 0.71023556\n",
      " 0.67463499 0.50525282 0.84785393 0.79918802 0.69689692 0.68602532\n",
      " 0.6228573  0.41399936 0.61761992 0.48601025 0.90197823 0.7985825\n",
      " 0.94451173 0.95268542 0.85437702 0.43557419 0.7583763  0.72649755\n",
      " 0.89729697 0.73141346 0.74053963 0.390222   0.64309586 0.51570033\n",
      " 0.32790035 0.46540134 0.36134757 0.62852186 0.48050516 0.62474423]\n"
     ]
    }
   ],
   "source": [
    "random_sampled_idx = np.random.choice(data.shape[0], size=1000, replace=False)\n",
    "print(f\"Pearson correlation coefficient: {corr_cal(data, data[random_sampled_idx])}\")\n",
    "t, p = ttest_ind(data, data[random_sampled_idx])\n",
    "\n",
    "# 输出检验结果\n",
    "# print(f\"Mean of original data: {mean_X}\")\n",
    "# print(f\"Mean of sampled data: {mean_X_sampled}\")\n",
    "# print(f\"T-value: {t}\")\n",
    "# print(f\"P-value: {p}\")"
   ]
  },
  {
   "cell_type": "code",
   "execution_count": 65,
   "metadata": {},
   "outputs": [
    {
     "name": "stdout",
     "output_type": "stream",
     "text": [
      "cumulative variance explained: 100.00%\n"
     ]
    }
   ],
   "source": [
    "pca = PCA(n_components=90)\n",
    "pca_result2 = pca.fit_transform(sampled_data)\n",
    "\n",
    "cumulative_variance_explained = np.cumsum(pca.explained_variance_ratio_)\n",
    "print(f\"cumulative variance explained: {cumulative_variance_explained[-1]:.2%}\")"
   ]
  },
  {
   "cell_type": "code",
   "execution_count": 140,
   "metadata": {},
   "outputs": [
    {
     "ename": "NameError",
     "evalue": "name 'PCA' is not defined",
     "output_type": "error",
     "traceback": [
      "\u001b[0;31m---------------------------------------------------------------------------\u001b[0m",
      "\u001b[0;31mNameError\u001b[0m                                 Traceback (most recent call last)",
      "Cell \u001b[0;32mIn[140], line 7\u001b[0m\n\u001b[1;32m      1\u001b[0m \u001b[39m# random projection\u001b[39;00m\n\u001b[1;32m      2\u001b[0m \u001b[39m# transformer = random_projection.GaussianRandomProjection(n_components=1000)\u001b[39;00m\n\u001b[1;32m      3\u001b[0m \u001b[39m# wna_data_projected = transformer.fit_transform(wna_data.iloc[:,2:].T)\u001b[39;00m\n\u001b[1;32m      4\u001b[0m \u001b[39m# print(wna_data_projected.shape) \u001b[39;00m\n\u001b[1;32m      5\u001b[0m \n\u001b[1;32m      6\u001b[0m \u001b[39m# PCA\u001b[39;00m\n\u001b[0;32m----> 7\u001b[0m pca \u001b[39m=\u001b[39m PCA(n_components\u001b[39m=\u001b[39m\u001b[39m2\u001b[39m)\n\u001b[1;32m      8\u001b[0m pca_result \u001b[39m=\u001b[39m pca\u001b[39m.\u001b[39mfit_transform(data\u001b[39m.\u001b[39mT)\n\u001b[1;32m     10\u001b[0m cumulative_variance_explained \u001b[39m=\u001b[39m np\u001b[39m.\u001b[39mcumsum(pca\u001b[39m.\u001b[39mexplained_variance_ratio_)\n",
      "\u001b[0;31mNameError\u001b[0m: name 'PCA' is not defined"
     ]
    }
   ],
   "source": [
    "# random projection\n",
    "# transformer = random_projection.GaussianRandomProjection(n_components=1000)\n",
    "# wna_data_projected = transformer.fit_transform(wna_data.iloc[:,2:].T)\n",
    "# print(wna_data_projected.shape) \n",
    "\n",
    "# PCA\n",
    "pca = PCA(n_components=2)\n",
    "pca_result = pca.fit_transform(data.T)\n",
    "\n",
    "cumulative_variance_explained = np.cumsum(pca.explained_variance_ratio_)\n",
    "print(f\"cumulative variance explained: {cumulative_variance_explained[-1]:.2%}\")\n",
    "\n",
    "pca_region = pd.concat([region,pd.DataFrame(pca_result,columns=['pc1','pc2'])],axis=1)\n",
    "sns.scatterplot(data=pca_region, x=\"pc1\", y=\"pc2\", hue=\"region1\")\n",
    "plt.xlabel(f\"PC1 {pca.explained_variance_ratio_[0]:.02%}\")\n",
    "plt.ylabel(f\"PC2 {pca.explained_variance_ratio_[1]:.02%}\")\n",
    "plt.title('PCA - original data')"
   ]
  },
  {
   "cell_type": "code",
   "execution_count": 149,
   "metadata": {},
   "outputs": [
    {
     "name": "stdout",
     "output_type": "stream",
     "text": [
      "cumulative variance explained: 51.11%\n"
     ]
    },
    {
     "data": {
      "text/plain": [
       "Text(0.5, 1.0, 'PCA - sampled data')"
      ]
     },
     "execution_count": 149,
     "metadata": {},
     "output_type": "execute_result"
    },
    {
     "data": {
      "image/png": "[encoded data removed]",
      "text/plain": [
       "<Figure size 640x480 with 1 Axes>"
      ]
     },
     "metadata": {},
     "output_type": "display_data"
    }
   ],
   "source": [
    "pca = PCA(n_components=2)\n",
    "# pca_result = pca.fit_transform(data[random_sampled_idx].T)\n",
    "pca_result = pca.fit_transform(sampled_data.T)\n",
    "\n",
    "cumulative_variance_explained = np.cumsum(pca.explained_variance_ratio_)\n",
    "print(f\"cumulative variance explained: {cumulative_variance_explained[-1]:.2%}\")\n",
    "\n",
    "pca_region = pd.concat([region,pd.DataFrame(pca_result,columns=['pc1','pc2'])],axis=1)\n",
    "sns.scatterplot(data=pca_region, x=\"pc1\", y=\"pc2\", hue=\"region1\")\n",
    "plt.xlabel(f\"PC1 {pca.explained_variance_ratio_[0]:.02%}\")\n",
    "plt.ylabel(f\"PC2 {pca.explained_variance_ratio_[1]:.02%}\")\n",
    "plt.title('PCA - sampled data')"
   ]
  },
  {
   "cell_type": "markdown",
   "metadata": {},
   "source": [
    "## 2. importance sampling"
   ]
  }
 ],
 "metadata": {
  "kernelspec": {
   "display_name": "torch_env",
   "language": "python",
   "name": "python3"
  },
  "language_info": {
   "codemirror_mode": {
    "name": "ipython",
    "version": 3
   },
   "file_extension": ".py",
   "mimetype": "text/x-python",
   "name": "python",
   "nbconvert_exporter": "python",
   "pygments_lexer": "ipython3",
   "version": "3.8.0"
  },
  "orig_nbformat": 4
 },
 "nbformat": 4,
 "nbformat_minor": 2
}
